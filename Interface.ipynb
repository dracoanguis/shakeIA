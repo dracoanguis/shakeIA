{
 "cells": [
  {
   "cell_type": "markdown",
   "metadata": {},
   "source": [
    "# ShakeIA"
   ]
  },
  {
   "cell_type": "code",
   "execution_count": 11,
   "metadata": {},
   "outputs": [],
   "source": [
    "import torch\n",
    "from src.shakeIA.dataset import STOI, ITOS\n",
    "from shakeIA import ShakeModel\n",
    "from functools import reduce"
   ]
  },
  {
   "cell_type": "code",
   "execution_count": 9,
   "metadata": {},
   "outputs": [
    {
     "data": {
      "text/plain": [
       "140"
      ]
     },
     "execution_count": 9,
     "metadata": {},
     "output_type": "execute_result"
    }
   ],
   "source": [
    "test_prompt = \"\"\"First Citizen:\n",
    "Let us kill him, and we'll have corn at our own price.\n",
    "Is't a verdict?\n",
    "All:\n",
    "No more talking on't; let it be done: away, away!\"\"\"\n",
    "len(test_prompt)"
   ]
  },
  {
   "cell_type": "code",
   "execution_count": 38,
   "metadata": {},
   "outputs": [],
   "source": [
    "def prompt(device: torch.device, prompt: str, model: ShakeModel, target_len: int = 400) -> str:\n",
    "    iprompt = [ STOI[c] for c in prompt]\n",
    "    \n",
    "    p_vec = torch.tensor([iprompt[-model.config[\"vector_len\"]:]]).to(device)\n",
    "    res: list[int] = iprompt[-model.config[\"vector_len\"]:]\n",
    "    \n",
    "    for j in range(model.config[\"vector_len\"], target_len):\n",
    "        letter = torch.argmax(model(p_vec))\n",
    "        res += [letter.item()]\n",
    "        p_vec = torch.tensor([res[j-model.config[\"vector_len\"]+1:]]).to(device)\n",
    "        \n",
    "    res_str = reduce(str.__add__, [ITOS[i] for i in res])\n",
    "    return res_str"
   ]
  },
  {
   "cell_type": "code",
   "execution_count": null,
   "metadata": {},
   "outputs": [
    {
     "name": "stderr",
     "output_type": "stream",
     "text": [
      "/tmp/ipykernel_18069/2990177835.py:1: FutureWarning: You are using `torch.load` with `weights_only=False` (the current default value), which uses the default pickle module implicitly. It is possible to construct malicious pickle data which will execute arbitrary code during unpickling (See https://github.com/pytorch/pytorch/blob/main/SECURITY.md#untrusted-models for more details). In a future release, the default value for `weights_only` will be flipped to `True`. This limits the functions that could be executed during unpickling. Arbitrary objects will no longer be allowed to be loaded via this mode unless they are explicitly allowlisted by the user via `torch.serialization.add_safe_globals`. We recommend you start setting `weights_only=True` for any use case where you don't have full control of the loaded file. Please open an issue on GitHub for any issues related to this experimental feature.\n",
      "  model: ShakeModel = torch.load(\"models/first/shake.model\")\n"
     ]
    }
   ],
   "source": [
    "model: ShakeModel = torch.load(\"models/first/shake.model\")"
   ]
  },
  {
   "cell_type": "code",
   "execution_count": 40,
   "metadata": {},
   "outputs": [
    {
     "name": "stdout",
     "output_type": "stream",
     "text": [
      "l have corn at our own price.\n",
      "Is't a verdict?\n",
      "All:\n",
      "No more talking on't; let it be done: away, away!                                                                                                                                                                                                                                                                                                            \n"
     ]
    }
   ],
   "source": [
    "print(prompt(torch.device(\"cuda\"), test_prompt, model))"
   ]
  }
 ],
 "metadata": {
  "kernelspec": {
   "display_name": "shakeia-cI1oNDy3-py3.12",
   "language": "python",
   "name": "python3"
  },
  "language_info": {
   "codemirror_mode": {
    "name": "ipython",
    "version": 3
   },
   "file_extension": ".py",
   "mimetype": "text/x-python",
   "name": "python",
   "nbconvert_exporter": "python",
   "pygments_lexer": "ipython3",
   "version": "3.12.7"
  }
 },
 "nbformat": 4,
 "nbformat_minor": 2
}
